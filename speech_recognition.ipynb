{
 "cells": [
  {
   "cell_type": "code",
   "execution_count": 15,
   "metadata": {},
   "outputs": [
    {
     "name": "stdout",
     "output_type": "stream",
     "text": [
      "MFCC shape: (32, 13)\n"
     ]
    }
   ],
   "source": [
    "# Version 1\n",
    "# 1..9\n",
    "# Yes, No, Up, Down, Left, Right, On, Off, Stop, Go\n",
    "# Backward, Forward, Follow, Learn\n",
    "# Bed, Bird, Cat, Dog, Happy, House, Marvin, Sheila, Tree, Wow\n",
    "\n",
    "#Make sure all of the libraries are installed using pip\n",
    "import tensorflow as tf\n",
    "import tensorflow_datasets as tfds\n",
    "from datasets import load_dataset\n",
    "import numpy as np\n",
    "import librosa\n",
    "\n",
    "def preprocess_audio(file_path, target_sr=16000, n_mfcc=13):\n",
    "    audio, sr = librosa.load(file_path, sr=target_sr)\n",
    "    mfccs = librosa.feature.mfcc(y=audio, sr=sr, n_mfcc=n_mfcc)\n",
    "    return np.mean(mfccs.T, axis=0) # Mean across time\n",
    "\n",
    "file_path = \"recordings/up/0a7c2a8d_nohash_0.wav\"\n",
    "mfccs = preprocess_audio(file_path)\n",
    "print(f\"MFCC shape: {mfccs.shape}\")\n"
   ]
  },
  {
   "cell_type": "markdown",
   "metadata": {},
   "source": [
    "Get file paths"
   ]
  },
  {
   "cell_type": "code",
   "execution_count": 57,
   "metadata": {},
   "outputs": [],
   "source": [
    "import os\n",
    "import glob\n",
    "import pandas as pd\n",
    "import numpy as np\n",
    "\n",
    "dataset_path = \"recordings/\"\n",
    "\n",
    "def preprocess_audio(file_path, target_sr=16000, feature_type='mel', n_mfcc=13):\n",
    "    audio, sr = librosa.load(file_path, sr=target_sr)\n",
    "\n",
    "    if feature_type == 'mel':\n",
    "        mel_spectogram = librosa.feature.melspectrogram(y=audio, sr=sr, n_mels=128)\n",
    "        return librosa.amplitude_to_db(mel_spectogram, ref=np.max)\n",
    "    elif feature_type == 'mfcc':\n",
    "        mfccs = librosa.feature.mfcc(y=audio, sr=sr, n_mfcc=n_mfcc)\n",
    "        return np.mean(mfccs.T, axis=0) # Mean across time\n",
    "    else:\n",
    "        raise ValueError(\"Invalid feature_type. Use 'mel' or 'mfcc'\")\n",
    "\n",
    "df = pd.DataFrame(columns=['Label', 'File_Path'])\n",
    "X = []\n",
    "\n",
    "selected_labels = ['up', 'down', 'left', 'right']\n",
    "for label in selected_labels:\n",
    "    label_path = os.path.join(dataset_path, label)\n",
    "    if os.path.isdir(label_path):\n",
    "        file_paths = glob.glob(os.path.join(label_path, \"*.wav\"))\n",
    "\n",
    "        for file_path in file_paths:\n",
    "            X.append(preprocess_audio(file_path, feature_type='mfcc'))\n",
    "            new_row = {'Label': label, 'File_Path': file_path}\n",
    "            df = pd.concat([df, pd.DataFrame([new_row])], ignore_index=True)\n",
    "\n",
    "df.head()\n",
    "\n",
    "X = np.array(X)\n",
    "y = df['Label'].values"
   ]
  },
  {
   "cell_type": "markdown",
   "metadata": {},
   "source": [
    "Check for balance"
   ]
  },
  {
   "cell_type": "code",
   "execution_count": null,
   "metadata": {},
   "outputs": [],
   "source": [
    "counts = df['Label'].value_counts()\n",
    "print(counts)\n",
    "df.info()\n",
    "df.head()"
   ]
  },
  {
   "cell_type": "markdown",
   "metadata": {},
   "source": [
    "Encoding labels using One-Hot Encoding"
   ]
  },
  {
   "cell_type": "code",
   "execution_count": null,
   "metadata": {},
   "outputs": [],
   "source": [
    "from sklearn.preprocessing import OneHotEncoder\n",
    "\n",
    "encoder = OneHotEncoder(sparse_output=False)\n",
    "\n",
    "encoded_data = encoder.fit_transform(df[['Label']])\n",
    "\n",
    "print(encoded_data)\n",
    "encoded_df = pd.DataFrame(encoded_data, columns=encoder.get_feature_names_out(['Label']))\n",
    "\n",
    "df = pd.concat([df, encoded_df], axis=1)"
   ]
  },
  {
   "cell_type": "code",
   "execution_count": 132,
   "metadata": {},
   "outputs": [
    {
     "name": "stdout",
     "output_type": "stream",
     "text": [
      "Feature Shape (X): (9454, 13)\n",
      "Label Shape (y): (9454, 4)\n"
     ]
    }
   ],
   "source": [
    "#Updating y\n",
    "y = encoded_data\n",
    "\n",
    "print(\"Feature Shape (X):\", X.shape)\n",
    "print(\"Label Shape (y):\", y.shape)"
   ]
  },
  {
   "cell_type": "markdown",
   "metadata": {},
   "source": [
    "Display spectogram"
   ]
  },
  {
   "cell_type": "code",
   "execution_count": 133,
   "metadata": {},
   "outputs": [
    {
     "data": {
      "image/png": "[encoded data removed]",
      "text/plain": [
       "<Figure size 720x288 with 2 Axes>"
      ]
     },
     "metadata": {
      "needs_background": "light"
     },
     "output_type": "display_data"
    }
   ],
   "source": [
    "import matplotlib.pyplot as plt\n",
    "import librosa.display\n",
    "\n",
    "recording = df['File_Path'][0]\n",
    "\n",
    "def display_spectogram(feature_matrix, feature_type='mel'):\n",
    "    # Mel spectogram\n",
    "    plt.figure(figsize=(10, 4))\n",
    "    librosa.display.specshow(feature_matrix, sr=16000, x_axis='time')\n",
    "    plt.colorbar(format='%+2.0f dB')\n",
    "    plt.title(f\"Mel Spectogram for: {recording}\")\n",
    "    plt.tight_layout()\n",
    "    plt.show()\n",
    "\n",
    "mel_feature = preprocess_audio(recording)\n",
    "display_spectogram(mel_feature)"
   ]
  },
  {
   "cell_type": "markdown",
   "metadata": {},
   "source": [
    "Train Test Val Split"
   ]
  },
  {
   "cell_type": "code",
   "execution_count": 134,
   "metadata": {},
   "outputs": [
    {
     "name": "stdout",
     "output_type": "stream",
     "text": [
      "Training set size: (5672, 13)\n",
      "Validation set size: (1891, 13)\n",
      "Test set size: (1891, 13)\n"
     ]
    }
   ],
   "source": [
    "from sklearn.model_selection import train_test_split\n",
    "\n",
    "X_train, X_test, y_train, y_test = train_test_split(X, y, test_size=0.2, random_state=42)\n",
    "X_train, X_val, y_train, y_val = train_test_split(X_train, y_train, test_size=0.25, random_state=42)\n",
    "\n",
    "print(\"Training set size:\", X_train.shape)\n",
    "print(\"Validation set size:\", X_val.shape)\n",
    "print(\"Test set size:\", X_test.shape)\n"
   ]
  },
  {
   "cell_type": "markdown",
   "metadata": {},
   "source": [
    "Normalization"
   ]
  },
  {
   "cell_type": "code",
   "execution_count": 135,
   "metadata": {},
   "outputs": [],
   "source": [
    "from sklearn.preprocessing import StandardScaler\n",
    "\n",
    "scaler = StandardScaler()\n",
    "\n",
    "X_train = scaler.fit_transform(X_train)\n",
    "X_val = scaler.transform(X_val)\n",
    "X_test = scaler.transform(X_test)"
   ]
  },
  {
   "cell_type": "code",
   "execution_count": 144,
   "metadata": {},
   "outputs": [
    {
     "name": "stderr",
     "output_type": "stream",
     "text": [
      "/home/foxide/.local/lib/python3.10/site-packages/keras/src/layers/core/dense.py:87: UserWarning: Do not pass an `input_shape`/`input_dim` argument to a layer. When using Sequential models, prefer using an `Input(shape)` object as the first layer in the model instead.\n",
      "  super().__init__(activity_regularizer=activity_regularizer, **kwargs)\n"
     ]
    }
   ],
   "source": [
    "from keras.models import Sequential\n",
    "from keras.layers import Dense\n",
    "from keras.optimizers import Adam\n",
    "\n",
    "learning_rates = [0.0001, 0.001, 0.01, 0.1, 0.5]\n",
    "histories = [] #Training history for each learning rate\n",
    "\n",
    "n_labels = y.shape[1]\n",
    "\n",
    "for lr in learning_rates:\n",
    "    model = Sequential([\n",
    "        Dense(32, activation='relu', input_shape=(X.shape[1],)),  # Input layer\n",
    "        #Number of neurons in last layer should match the number of unique labels\n",
    "        Dense(n_labels, activation='softmax')\n",
    "    ])\n",
    "    optimizer = Adam(learning_rate=lr)\n",
    "    model.compile(optimizer=optimizer, loss='categorical_crossentropy', metrics=['accuracy'])\n",
    "\n",
    "    history = model.fit(X_train, y_train, epochs=30, batch_size=32, validation_data=(X_val, y_val), verbose=0)\n",
    "    histories.append((lr, history))"
   ]
  },
  {
   "cell_type": "markdown",
   "metadata": {},
   "source": [
    "Loss curves plot"
   ]
  },
  {
   "cell_type": "code",
   "execution_count": 146,
   "metadata": {},
   "outputs": [
    {
     "data": {
      "image/png": "[encoded data removed]",
      "text/plain": [
       "<Figure size 720x432 with 1 Axes>"
      ]
     },
     "metadata": {
      "needs_background": "light"
     },
     "output_type": "display_data"
    }
   ],
   "source": [
    "plt.figure(figsize=(10, 6))\n",
    "for lr, history in histories:\n",
    "    plt.plot(history.history['loss'], label=f\"LR={lr}\")\n",
    "\n",
    "plt.title(\"Loss Curves for Different Learning Rates\")\n",
    "plt.xlabel(\"Epochs\")\n",
    "plt.ylabel(\"Loss\")\n",
    "plt.legend()\n",
    "plt.show()\n"
   ]
  },
  {
   "cell_type": "markdown",
   "metadata": {},
   "source": [
    "Plotting training loss for gradient descent visualization"
   ]
  },
  {
   "cell_type": "code",
   "execution_count": 172,
   "metadata": {},
   "outputs": [
    {
     "data": {
      "image/png": "[encoded data removed]",
      "text/plain": [
       "<Figure size 432x288 with 1 Axes>"
      ]
     },
     "metadata": {
      "needs_background": "light"
     },
     "output_type": "display_data"
    }
   ],
   "source": [
    "lr = 0.001\n",
    "model = Sequential([\n",
    "    Dense(32, activation='relu', input_shape=(X.shape[1],)),\n",
    "    Dense(n_labels, activation='softmax')\n",
    "])\n",
    "optimizer = Adam(learning_rate=lr)\n",
    "model.compile(optimizer=optimizer, loss='categorical_crossentropy', metrics=['accuracy'])\n",
    "\n",
    "# Train the model\n",
    "history = model.fit(X_train, y_train, epochs=30, batch_size=32, validation_data=(X_val, y_val), verbose=0)\n",
    "\n",
    "plt.plot(history.history['loss'], marker='o', label=f\"Training Loss (LR={lr})\")\n",
    "plt.title(\"Gradient Descent Visualization (Single Learning Rate)\")\n",
    "plt.xlabel(\"Epochs\")\n",
    "plt.ylabel(\"Loss\")\n",
    "plt.legend()\n",
    "plt.show()"
   ]
  },
  {
   "cell_type": "code",
   "execution_count": null,
   "metadata": {},
   "outputs": [
    {
     "name": "stdout",
     "output_type": "stream",
     "text": [
      "\u001b[1m60/60\u001b[0m \u001b[32m━━━━━━━━━━━━━━━━━━━━\u001b[0m\u001b[37m\u001b[0m \u001b[1m0s\u001b[0m 982us/step\n",
      "Validation Accuracy:  60.18%\n",
      "              precision    recall  f1-score   support\n",
      "\n",
      "           0       0.50      0.49      0.50       443\n",
      "           1       0.63      0.53      0.57       472\n",
      "           2       0.59      0.64      0.62       490\n",
      "           3       0.68      0.73      0.70       486\n",
      "\n",
      "    accuracy                           0.60      1891\n",
      "   macro avg       0.60      0.60      0.60      1891\n",
      "weighted avg       0.60      0.60      0.60      1891\n",
      "\n",
      "Sample     Predicted       True       Probabilities                           \n",
      "--------------------------------------------------------------------------------\n",
      "0          1               3          [0.341 0.414 0.044 0.201]\n",
      "1          2               2          [0.189 0.175 0.418 0.218]\n",
      "2          2               2          [4.728e-02 2.695e-01 6.828e-01 4.592e-04]\n",
      "3          1               1          [0.012 0.974 0.008 0.006]\n",
      "4          2               1          [0.233 0.179 0.349 0.239]\n",
      "Last 5 samples\n",
      "-5         2               0          [0.237 0.123 0.612 0.028]\n",
      "-4         0               3          [0.747 0.113 0.022 0.118]\n",
      "-3         3               3          [0.031 0.293 0.079 0.597]\n",
      "-2         2               0          [0.191 0.024 0.757 0.027]\n",
      "-1         2               3          [0.207 0.100 0.577 0.116]\n"
     ]
    }
   ],
   "source": [
    "import numpy as np\n",
    "from sklearn.metrics import accuracy_score, classification_report\n",
    "\n",
    "# Generate predictions\n",
    "y_pred = model.predict(X_val)  # Predicted probabilities\n",
    "y_pred_labels = np.argmax(y_pred, axis=1)  # Predicted class labels\n",
    "y_true_labels = np.argmax(y_val, axis=1)  # True class labels\n",
    "\n",
    "accuracy = accuracy_score(y_true_labels, y_pred_labels)\n",
    "print(f\"Validation Accuracy: {accuracy: .2%}\")\n",
    "\n",
    "    \n",
    "# Print predictions for the first 5 samples\n",
    "print(f\"{'Sample':<10} {'Predicted':<15} {'True':<10} {'Probabilities':<40}\")\n",
    "print(\"-\" * 80)\n",
    "for i in range(5):  # Display the first 5 samples\n",
    "    print(\n",
    "        f\"{i:<10} {y_pred_labels[i]:<15} {y_true_labels[i]:<10} \"\n",
    "        f\"{np.array2string(y_pred[i], precision=3, floatmode='fixed')}\"\n",
    "    )\n",
    "\n",
    "\n",
    "print(\"Last 5 samples\")\n",
    "for i in range(-5, 0):  # Display the last 5 samples\n",
    "    print(\n",
    "        f\"{i:<10} {y_pred_labels[i]:<15} {y_true_labels[i]:<10} \"\n",
    "        f\"{np.array2string(y_pred[i], precision=3, floatmode='fixed')}\"\n",
    "    )"
   ]
  },
  {
   "cell_type": "markdown",
   "metadata": {},
   "source": [
    "Per-Sample Loss"
   ]
  },
  {
   "cell_type": "code",
   "execution_count": 179,
   "metadata": {},
   "outputs": [
    {
     "name": "stdout",
     "output_type": "stream",
     "text": [
      "      Predicted  True      Loss  \\\n",
      "528           2     3  6.664994   \n",
      "567           3     2  6.558943   \n",
      "32            3     2  5.986557   \n",
      "1354          1     3  5.681607   \n",
      "205           3     1  5.591200   \n",
      "1040          1     2  5.209770   \n",
      "1154          1     3  5.139175   \n",
      "819           3     0  4.842641   \n",
      "388           3     2  4.689378   \n",
      "352           3     2  4.611179   \n",
      "1636          2     3  4.434878   \n",
      "1024          3     0  4.317671   \n",
      "442           2     3  4.316947   \n",
      "517           1     0  4.315814   \n",
      "113           1     0  4.158210   \n",
      "1185          3     0  4.062570   \n",
      "1343          1     2  4.028383   \n",
      "789           3     0  3.880685   \n",
      "383           1     3  3.850750   \n",
      "1804          2     3  3.841196   \n",
      "\n",
      "                                          Probabilities  \n",
      "528   [0.06234048, 0.35297352, 0.5834113, 0.0012747643]  \n",
      "567   [0.037557792, 0.29391697, 0.0014173831, 0.6671...  \n",
      "32      [0.053892735, 0.06206381, 0.0025123, 0.8815311]  \n",
      "1354   [0.16654117, 0.44378293, 0.3862678, 0.003408077]  \n",
      "205   [0.053802628, 0.0037305478, 0.0015056657, 0.94...  \n",
      "1040  [0.0012459296, 0.97026485, 0.0054629315, 0.023...  \n",
      "1154  [0.008945315, 0.9839585, 0.0012336796, 0.00586...  \n",
      "819   [0.0078862, 0.0054687015, 0.00076998246, 0.985...  \n",
      "388   [0.03703034, 0.04395996, 0.009192399, 0.90981716]  \n",
      "352   [0.07678319, 0.056780998, 0.0099400915, 0.8564...  \n",
      "1636   [0.14792623, 0.07342677, 0.7667905, 0.011856512]  \n",
      "1024  [0.013330897, 0.2646182, 0.0017416719, 0.72030...  \n",
      "442   [0.08019044, 0.10565767, 0.8008114, 0.0133405505]  \n",
      "517    [0.01335567, 0.911225, 0.07415788, 0.0012615323]  \n",
      "113   [0.015635518, 0.7882491, 0.0065721255, 0.18954...  \n",
      "1185  [0.01720475, 0.01451588, 0.003141133, 0.96513826]  \n",
      "1343    [0.24152169, 0.6139637, 0.01780309, 0.12671146]  \n",
      "789   [0.020636695, 0.022740824, 0.0019774667, 0.954...  \n",
      "383    [0.15506591, 0.5765678, 0.24710245, 0.021263776]  \n",
      "1804  [0.12877809, 0.10279741, 0.74695647, 0.021467907]  \n"
     ]
    }
   ],
   "source": [
    "# Compute per-sample loss\n",
    "losses = -np.log(y_pred[np.arange(len(y_pred)), y_true_labels])\n",
    "\n",
    "# Add predictions, true labels, and losses to a DataFrame for analysis\n",
    "import pandas as pd\n",
    "results_df = pd.DataFrame({\n",
    "    \"Predicted\": y_pred_labels,\n",
    "    \"True\": y_true_labels,\n",
    "    \"Loss\": losses,\n",
    "    \"Probabilities\": [list(prob) for prob in y_pred]\n",
    "})\n",
    "\n",
    "# Sort by loss to find the most challenging samples\n",
    "results_df_sorted = results_df.sort_values(by=\"Loss\", ascending=False)\n",
    "print(results_df_sorted.head(20))  # Display top 10 samples with highest loss\n"
   ]
  },
  {
   "cell_type": "markdown",
   "metadata": {},
   "source": [
    "Play the '528' recording"
   ]
  },
  {
   "cell_type": "code",
   "execution_count": 188,
   "metadata": {},
   "outputs": [
    {
     "ename": "OSError",
     "evalue": "PortAudio library not found",
     "output_type": "error",
     "traceback": [
      "\u001b[0;31m---------------------------------------------------------------------------\u001b[0m",
      "\u001b[0;31mOSError\u001b[0m                                   Traceback (most recent call last)",
      "\u001b[0;32m/tmp/ipykernel_78343/2365032765.py\u001b[0m in \u001b[0;36m<module>\u001b[0;34m\u001b[0m\n\u001b[1;32m      1\u001b[0m \u001b[0;32mfrom\u001b[0m \u001b[0mIPython\u001b[0m\u001b[0;34m.\u001b[0m\u001b[0mdisplay\u001b[0m \u001b[0;32mimport\u001b[0m \u001b[0mAudio\u001b[0m\u001b[0;34m\u001b[0m\u001b[0;34m\u001b[0m\u001b[0m\n\u001b[0;32m----> 2\u001b[0;31m \u001b[0;32mimport\u001b[0m \u001b[0msounddevice\u001b[0m \u001b[0;32mas\u001b[0m \u001b[0msd\u001b[0m\u001b[0;34m\u001b[0m\u001b[0;34m\u001b[0m\u001b[0m\n\u001b[0m\u001b[1;32m      3\u001b[0m \u001b[0;34m\u001b[0m\u001b[0m\n\u001b[1;32m      4\u001b[0m \u001b[0;31m# Retrieve the file path for record 528\u001b[0m\u001b[0;34m\u001b[0m\u001b[0;34m\u001b[0m\u001b[0m\n\u001b[1;32m      5\u001b[0m \u001b[0mrecord_index\u001b[0m \u001b[0;34m=\u001b[0m \u001b[0;36m5\u001b[0m\u001b[0;34m\u001b[0m\u001b[0;34m\u001b[0m\u001b[0m\n",
      "\u001b[0;32m~/.local/lib/python3.10/site-packages/sounddevice.py\u001b[0m in \u001b[0;36m<module>\u001b[0;34m\u001b[0m\n\u001b[1;32m     69\u001b[0m             \u001b[0;32mbreak\u001b[0m\u001b[0;34m\u001b[0m\u001b[0;34m\u001b[0m\u001b[0m\n\u001b[1;32m     70\u001b[0m     \u001b[0;32melse\u001b[0m\u001b[0;34m:\u001b[0m\u001b[0;34m\u001b[0m\u001b[0;34m\u001b[0m\u001b[0m\n\u001b[0;32m---> 71\u001b[0;31m         \u001b[0;32mraise\u001b[0m \u001b[0mOSError\u001b[0m\u001b[0;34m(\u001b[0m\u001b[0;34m'PortAudio library not found'\u001b[0m\u001b[0;34m)\u001b[0m\u001b[0;34m\u001b[0m\u001b[0;34m\u001b[0m\u001b[0m\n\u001b[0m\u001b[1;32m     72\u001b[0m     \u001b[0m_lib\u001b[0m \u001b[0;34m=\u001b[0m \u001b[0m_ffi\u001b[0m\u001b[0;34m.\u001b[0m\u001b[0mdlopen\u001b[0m\u001b[0;34m(\u001b[0m\u001b[0m_libname\u001b[0m\u001b[0;34m)\u001b[0m\u001b[0;34m\u001b[0m\u001b[0;34m\u001b[0m\u001b[0m\n\u001b[1;32m     73\u001b[0m \u001b[0;32mexcept\u001b[0m \u001b[0mOSError\u001b[0m\u001b[0;34m:\u001b[0m\u001b[0;34m\u001b[0m\u001b[0;34m\u001b[0m\u001b[0m\n",
      "\u001b[0;31mOSError\u001b[0m: PortAudio library not found"
     ]
    }
   ],
   "source": [
    "from IPython.display import Audio\n",
    "\n",
    "#Install audio-preview extension \n",
    "\n",
    "# Retrieve the file path for record 528\n",
    "record_index = 5\n",
    "file_path = df.loc[record_index, 'File_Path']\n",
    "print(f\"File Path for Record {record_index}: {file_path}\")\n",
    "\n",
    "Audio(file_path)"
   ]
  }
 ],
 "metadata": {
  "kernelspec": {
   "display_name": "Python 3",
   "language": "python",
   "name": "python3"
  },
  "language_info": {
   "codemirror_mode": {
    "name": "ipython",
    "version": 3
   },
   "file_extension": ".py",
   "mimetype": "text/x-python",
   "name": "python",
   "nbconvert_exporter": "python",
   "pygments_lexer": "ipython3",
   "version": "3.10.13"
  }
 },
 "nbformat": 4,
 "nbformat_minor": 2
}
