{
 "cells": [
  {
   "cell_type": "code",
   "execution_count": 6,
   "metadata": {},
   "outputs": [
    {
     "name": "stderr",
     "output_type": "stream",
     "text": [
      "2025-01-15 16:15:52.349714: I external/local_xla/xla/tsl/cuda/cudart_stub.cc:32] Could not find cuda drivers on your machine, GPU will not be used.\n",
      "2025-01-15 16:15:52.398991: I external/local_xla/xla/tsl/cuda/cudart_stub.cc:32] Could not find cuda drivers on your machine, GPU will not be used.\n",
      "2025-01-15 16:15:52.466015: E external/local_xla/xla/stream_executor/cuda/cuda_fft.cc:477] Unable to register cuFFT factory: Attempting to register factory for plugin cuFFT when one has already been registered\n",
      "WARNING: All log messages before absl::InitializeLog() is called are written to STDERR\n",
      "E0000 00:00:1736954152.531741  140793 cuda_dnn.cc:8310] Unable to register cuDNN factory: Attempting to register factory for plugin cuDNN when one has already been registered\n",
      "E0000 00:00:1736954152.549914  140793 cuda_blas.cc:1418] Unable to register cuBLAS factory: Attempting to register factory for plugin cuBLAS when one has already been registered\n",
      "2025-01-15 16:15:52.710635: I tensorflow/core/platform/cpu_feature_guard.cc:210] This TensorFlow binary is optimized to use available CPU instructions in performance-critical operations.\n",
      "To enable the following instructions: AVX2 FMA, in other operations, rebuild TensorFlow with the appropriate compiler flags.\n"
     ]
    },
    {
     "name": "stdout",
     "output_type": "stream",
     "text": [
      "MFCC shape: (13,)\n"
     ]
    }
   ],
   "source": [
    "# Version 1\n",
    "# 1..9\n",
    "# Yes, No, Up, Down, Left, Right, On, Off, Stop, Go\n",
    "# Backward, Forward, Follow, Learn\n",
    "# Bed, Bird, Cat, Dog, Happy, House, Marvin, Sheila, Tree, Wow\n",
    "\n",
    "#Make sure all of the libraries are installed using pip\n",
    "import tensorflow as tf\n",
    "import tensorflow_datasets as tfds\n",
    "from datasets import load_dataset\n",
    "import numpy as np\n",
    "import librosa\n",
    "\n",
    "def preprocess_audio(file_path, target_sr=16000, n_mfcc=13):\n",
    "    audio, sr = librosa.load(file_path, sr=target_sr)\n",
    "    mfccs = librosa.feature.mfcc(y=audio, sr=sr, n_mfcc=n_mfcc)\n",
    "    return np.mean(mfccs.T, axis=0) # Mean across time\n",
    "\n",
    "file_path = \"recordings/up/0a7c2a8d_nohash_0.wav\"\n",
    "mfccs = preprocess_audio(file_path)\n",
    "print(f\"MFCC shape: {mfccs.shape}\")\n"
   ]
  },
  {
   "cell_type": "markdown",
   "metadata": {},
   "source": [
    "Get file paths"
   ]
  },
  {
   "cell_type": "code",
   "execution_count": 7,
   "metadata": {},
   "outputs": [],
   "source": [
    "import os\n",
    "import glob\n",
    "import pandas as pd\n",
    "import numpy as np\n",
    "\n",
    "dataset_path = \"recordings/\"\n",
    "\n",
    "def preprocess_audio(file_path, target_sr=16000, feature_type='mel', n_mfcc=13):\n",
    "    audio, sr = librosa.load(file_path, sr=target_sr)\n",
    "\n",
    "    if feature_type == 'mel':\n",
    "        mel_spectogram = librosa.feature.melspectrogram(y=audio, sr=sr, n_mels=128)\n",
    "        return librosa.amplitude_to_db(mel_spectogram, ref=np.max)\n",
    "    elif feature_type == 'mfcc':\n",
    "        mfccs = librosa.feature.mfcc(y=audio, sr=sr, n_mfcc=n_mfcc)\n",
    "        return np.mean(mfccs.T, axis=0) # Mean across time\n",
    "    else:\n",
    "        raise ValueError(\"Invalid feature_type. Use 'mel' or 'mfcc'\")\n",
    "\n",
    "df = pd.DataFrame(columns=['Label', 'File_Path'])\n",
    "X = []\n",
    "\n",
    "selected_labels = ['up', 'down', 'left', 'right']\n",
    "for label in selected_labels:\n",
    "    label_path = os.path.join(dataset_path, label)\n",
    "    if os.path.isdir(label_path):\n",
    "        file_paths = glob.glob(os.path.join(label_path, \"*.wav\"))\n",
    "\n",
    "        for file_path in file_paths:\n",
    "            X.append(preprocess_audio(file_path, feature_type='mfcc'))\n",
    "            new_row = {'Label': label, 'File_Path': file_path}\n",
    "            df = pd.concat([df, pd.DataFrame([new_row])], ignore_index=True)\n",
    "\n",
    "df.head()\n",
    "\n",
    "X = np.array(X)\n",
    "y = df['Label'].values"
   ]
  },
  {
   "cell_type": "markdown",
   "metadata": {},
   "source": [
    "Check for balance"
   ]
  },
  {
   "cell_type": "code",
   "execution_count": 8,
   "metadata": {},
   "outputs": [
    {
     "name": "stdout",
     "output_type": "stream",
     "text": [
      "Label\n",
      "up       2375\n",
      "right    2367\n",
      "down     2359\n",
      "left     2353\n",
      "Name: count, dtype: int64\n",
      "<class 'pandas.core.frame.DataFrame'>\n",
      "RangeIndex: 9454 entries, 0 to 9453\n",
      "Data columns (total 2 columns):\n",
      " #   Column     Non-Null Count  Dtype \n",
      "---  ------     --------------  ----- \n",
      " 0   Label      9454 non-null   object\n",
      " 1   File_Path  9454 non-null   object\n",
      "dtypes: object(2)\n",
      "memory usage: 147.8+ KB\n"
     ]
    },
    {
     "data": {
      "text/html": [
       "<div>\n",
       "<style scoped>\n",
       "    .dataframe tbody tr th:only-of-type {\n",
       "        vertical-align: middle;\n",
       "    }\n",
       "\n",
       "    .dataframe tbody tr th {\n",
       "        vertical-align: top;\n",
       "    }\n",
       "\n",
       "    .dataframe thead th {\n",
       "        text-align: right;\n",
       "    }\n",
       "</style>\n",
       "<table border=\"1\" class=\"dataframe\">\n",
       "  <thead>\n",
       "    <tr style=\"text-align: right;\">\n",
       "      <th></th>\n",
       "      <th>Label</th>\n",
       "      <th>File_Path</th>\n",
       "    </tr>\n",
       "  </thead>\n",
       "  <tbody>\n",
       "    <tr>\n",
       "      <th>0</th>\n",
       "      <td>up</td>\n",
       "      <td>recordings/up/e63b69c5_nohash_1.wav</td>\n",
       "    </tr>\n",
       "    <tr>\n",
       "      <th>1</th>\n",
       "      <td>up</td>\n",
       "      <td>recordings/up/824e8ce5_nohash_1.wav</td>\n",
       "    </tr>\n",
       "    <tr>\n",
       "      <th>2</th>\n",
       "      <td>up</td>\n",
       "      <td>recordings/up/50ed8a7b_nohash_0.wav</td>\n",
       "    </tr>\n",
       "    <tr>\n",
       "      <th>3</th>\n",
       "      <td>up</td>\n",
       "      <td>recordings/up/1657c9fa_nohash_2.wav</td>\n",
       "    </tr>\n",
       "    <tr>\n",
       "      <th>4</th>\n",
       "      <td>up</td>\n",
       "      <td>recordings/up/e9287461_nohash_1.wav</td>\n",
       "    </tr>\n",
       "  </tbody>\n",
       "</table>\n",
       "</div>"
      ],
      "text/plain": [
       "  Label                            File_Path\n",
       "0    up  recordings/up/e63b69c5_nohash_1.wav\n",
       "1    up  recordings/up/824e8ce5_nohash_1.wav\n",
       "2    up  recordings/up/50ed8a7b_nohash_0.wav\n",
       "3    up  recordings/up/1657c9fa_nohash_2.wav\n",
       "4    up  recordings/up/e9287461_nohash_1.wav"
      ]
     },
     "execution_count": 8,
     "metadata": {},
     "output_type": "execute_result"
    }
   ],
   "source": [
    "counts = df['Label'].value_counts()\n",
    "print(counts)\n",
    "df.info()\n",
    "df.head()"
   ]
  },
  {
   "cell_type": "markdown",
   "metadata": {},
   "source": [
    "Encoding labels using One-Hot Encoding"
   ]
  },
  {
   "cell_type": "code",
   "execution_count": 9,
   "metadata": {},
   "outputs": [
    {
     "name": "stdout",
     "output_type": "stream",
     "text": [
      "[[0. 0. 0. 1.]\n",
      " [0. 0. 0. 1.]\n",
      " [0. 0. 0. 1.]\n",
      " ...\n",
      " [0. 0. 1. 0.]\n",
      " [0. 0. 1. 0.]\n",
      " [0. 0. 1. 0.]]\n"
     ]
    }
   ],
   "source": [
    "from sklearn.preprocessing import OneHotEncoder\n",
    "\n",
    "encoder = OneHotEncoder(sparse_output=False)\n",
    "\n",
    "encoded_data = encoder.fit_transform(df[['Label']])\n",
    "\n",
    "print(encoded_data)\n",
    "encoded_df = pd.DataFrame(encoded_data, columns=encoder.get_feature_names_out(['Label']))\n",
    "\n",
    "df = pd.concat([df, encoded_df], axis=1)"
   ]
  },
  {
   "cell_type": "code",
   "execution_count": 10,
   "metadata": {},
   "outputs": [
    {
     "name": "stdout",
     "output_type": "stream",
     "text": [
      "Feature Shape (X): (9454, 13)\n",
      "Label Shape (y): (9454, 4)\n"
     ]
    }
   ],
   "source": [
    "#Updating y\n",
    "y = encoded_data\n",
    "\n",
    "print(\"Feature Shape (X):\", X.shape)\n",
    "print(\"Label Shape (y):\", y.shape)"
   ]
  },
  {
   "cell_type": "markdown",
   "metadata": {},
   "source": [
    "Display spectogram"
   ]
  },
  {
   "cell_type": "code",
   "execution_count": 11,
   "metadata": {},
   "outputs": [
    {
     "data": {
      "image/png": "[encoded data removed]",
      "text/plain": [
       "<Figure size 720x288 with 2 Axes>"
      ]
     },
     "metadata": {
      "needs_background": "light"
     },
     "output_type": "display_data"
    }
   ],
   "source": [
    "import matplotlib.pyplot as plt\n",
    "import librosa.display\n",
    "\n",
    "recording = df['File_Path'][0]\n",
    "\n",
    "def display_spectogram(feature_matrix, feature_type='mel'):\n",
    "    # Mel spectogram\n",
    "    plt.figure(figsize=(10, 4))\n",
    "    librosa.display.specshow(feature_matrix, sr=16000, x_axis='time')\n",
    "    plt.colorbar(format='%+2.0f dB')\n",
    "    plt.title(f\"Mel Spectogram for: {recording}\")\n",
    "    plt.tight_layout()\n",
    "    plt.show()\n",
    "\n",
    "mel_feature = preprocess_audio(recording)\n",
    "display_spectogram(mel_feature)"
   ]
  },
  {
   "cell_type": "markdown",
   "metadata": {},
   "source": [
    "Train Test Val Split"
   ]
  },
  {
   "cell_type": "code",
   "execution_count": 12,
   "metadata": {},
   "outputs": [
    {
     "name": "stdout",
     "output_type": "stream",
     "text": [
      "Training set size: (5672, 13)\n",
      "Validation set size: (1891, 13)\n",
      "Test set size: (1891, 13)\n"
     ]
    }
   ],
   "source": [
    "from sklearn.model_selection import train_test_split\n",
    "\n",
    "X_train, X_test, y_train, y_test = train_test_split(X, y, test_size=0.2, random_state=42)\n",
    "X_train, X_val, y_train, y_val = train_test_split(X_train, y_train, test_size=0.25, random_state=42)\n",
    "\n",
    "print(\"Training set size:\", X_train.shape)\n",
    "print(\"Validation set size:\", X_val.shape)\n",
    "print(\"Test set size:\", X_test.shape)\n"
   ]
  },
  {
   "cell_type": "markdown",
   "metadata": {},
   "source": [
    "Normalization"
   ]
  },
  {
   "cell_type": "code",
   "execution_count": 13,
   "metadata": {},
   "outputs": [],
   "source": [
    "from sklearn.preprocessing import StandardScaler\n",
    "\n",
    "scaler = StandardScaler()\n",
    "\n",
    "X_train = scaler.fit_transform(X_train)\n",
    "X_val = scaler.transform(X_val)\n",
    "X_test = scaler.transform(X_test)"
   ]
  },
  {
   "cell_type": "code",
   "execution_count": 14,
   "metadata": {},
   "outputs": [
    {
     "name": "stderr",
     "output_type": "stream",
     "text": [
      "/home/foxide/.local/lib/python3.10/site-packages/keras/src/layers/core/dense.py:87: UserWarning: Do not pass an `input_shape`/`input_dim` argument to a layer. When using Sequential models, prefer using an `Input(shape)` object as the first layer in the model instead.\n",
      "  super().__init__(activity_regularizer=activity_regularizer, **kwargs)\n",
      "2025-01-15 16:16:56.499675: E external/local_xla/xla/stream_executor/cuda/cuda_driver.cc:152] failed call to cuInit: INTERNAL: CUDA error: Failed call to cuInit: UNKNOWN ERROR (303)\n"
     ]
    }
   ],
   "source": [
    "from keras.models import Sequential\n",
    "from keras.layers import Dense\n",
    "from keras.optimizers import Adam\n",
    "\n",
    "learning_rates = [0.0001, 0.001, 0.01, 0.1, 0.5]\n",
    "histories = [] #Training history for each learning rate\n",
    "\n",
    "n_labels = y.shape[1]\n",
    "\n",
    "for lr in learning_rates:\n",
    "    model = Sequential([\n",
    "        Dense(32, activation='relu', input_shape=(X.shape[1],)),  # Input layer\n",
    "        #Number of neurons in last layer should match the number of unique labels\n",
    "        Dense(n_labels, activation='softmax')\n",
    "    ])\n",
    "    optimizer = Adam(learning_rate=lr)\n",
    "    model.compile(optimizer=optimizer, loss='categorical_crossentropy', metrics=['accuracy'])\n",
    "\n",
    "    history = model.fit(X_train, y_train, epochs=30, batch_size=32, validation_data=(X_val, y_val), verbose=0)\n",
    "    histories.append((lr, history))"
   ]
  },
  {
   "cell_type": "markdown",
   "metadata": {},
   "source": [
    "Loss curves plot"
   ]
  },
  {
   "cell_type": "code",
   "execution_count": 15,
   "metadata": {},
   "outputs": [
    {
     "data": {
      "image/png": "[encoded data removed]",
      "text/plain": [
       "<Figure size 720x432 with 1 Axes>"
      ]
     },
     "metadata": {
      "needs_background": "light"
     },
     "output_type": "display_data"
    }
   ],
   "source": [
    "plt.figure(figsize=(10, 6))\n",
    "for lr, history in histories:\n",
    "    plt.plot(history.history['loss'], label=f\"LR={lr}\")\n",
    "\n",
    "plt.title(\"Loss Curves for Different Learning Rates\")\n",
    "plt.xlabel(\"Epochs\")\n",
    "plt.ylabel(\"Loss\")\n",
    "plt.legend()\n",
    "plt.show()\n"
   ]
  },
  {
   "cell_type": "markdown",
   "metadata": {},
   "source": [
    "Plotting training loss for gradient descent visualization"
   ]
  },
  {
   "cell_type": "code",
   "execution_count": 16,
   "metadata": {},
   "outputs": [
    {
     "data": {
      "image/png": "[encoded data removed]",
      "text/plain": [
       "<Figure size 432x288 with 1 Axes>"
      ]
     },
     "metadata": {
      "needs_background": "light"
     },
     "output_type": "display_data"
    }
   ],
   "source": [
    "lr = 0.001\n",
    "model = Sequential([\n",
    "    Dense(32, activation='relu', input_shape=(X.shape[1],)),\n",
    "    Dense(n_labels, activation='softmax')\n",
    "])\n",
    "optimizer = Adam(learning_rate=lr)\n",
    "model.compile(optimizer=optimizer, loss='categorical_crossentropy', metrics=['accuracy'])\n",
    "\n",
    "# Train the model\n",
    "history = model.fit(X_train, y_train, epochs=30, batch_size=32, validation_data=(X_val, y_val), verbose=0)\n",
    "\n",
    "plt.plot(history.history['loss'], marker='o', label=f\"Training Loss (LR={lr})\")\n",
    "plt.title(\"Gradient Descent Visualization (Single Learning Rate)\")\n",
    "plt.xlabel(\"Epochs\")\n",
    "plt.ylabel(\"Loss\")\n",
    "plt.legend()\n",
    "plt.show()"
   ]
  },
  {
   "cell_type": "code",
   "execution_count": 17,
   "metadata": {},
   "outputs": [
    {
     "name": "stdout",
     "output_type": "stream",
     "text": [
      "\u001b[1m60/60\u001b[0m \u001b[32m━━━━━━━━━━━━━━━━━━━━\u001b[0m\u001b[37m\u001b[0m \u001b[1m0s\u001b[0m 1ms/step  \n",
      "Validation Accuracy:  59.76%\n",
      "Sample     Predicted       True       Probabilities                           \n",
      "--------------------------------------------------------------------------------\n",
      "0          0               3          [0.447 0.432 0.038 0.083]\n",
      "1          2               2          [0.216 0.147 0.346 0.291]\n",
      "2          2               2          [0.075 0.370 0.554 0.001]\n",
      "3          1               1          [0.027 0.957 0.006 0.011]\n",
      "4          0               1          [0.271 0.234 0.264 0.232]\n",
      "Last 5 samples\n",
      "-5         2               0          [0.197 0.179 0.593 0.031]\n",
      "-4         0               3          [0.870 0.035 0.023 0.073]\n",
      "-3         3               3          [0.035 0.173 0.142 0.650]\n",
      "-2         2               0          [0.207 0.095 0.659 0.040]\n",
      "-1         2               3          [0.316 0.097 0.468 0.119]\n"
     ]
    }
   ],
   "source": [
    "import numpy as np\n",
    "from sklearn.metrics import accuracy_score, classification_report\n",
    "\n",
    "# Generate predictions\n",
    "y_pred = model.predict(X_val)  # Predicted probabilities\n",
    "y_pred_labels = np.argmax(y_pred, axis=1)  # Predicted class labels\n",
    "y_true_labels = np.argmax(y_val, axis=1)  # True class labels\n",
    "\n",
    "accuracy = accuracy_score(y_true_labels, y_pred_labels)\n",
    "print(f\"Validation Accuracy: {accuracy: .2%}\")\n",
    "\n",
    "    \n",
    "# Print predictions for the first 5 samples\n",
    "print(f\"{'Sample':<10} {'Predicted':<15} {'True':<10} {'Probabilities':<40}\")\n",
    "print(\"-\" * 80)\n",
    "for i in range(5):  # Display the first 5 samples\n",
    "    print(\n",
    "        f\"{i:<10} {y_pred_labels[i]:<15} {y_true_labels[i]:<10} \"\n",
    "        f\"{np.array2string(y_pred[i], precision=3, floatmode='fixed')}\"\n",
    "    )\n",
    "\n",
    "\n",
    "print(\"Last 5 samples\")\n",
    "for i in range(-5, 0):  # Display the last 5 samples\n",
    "    print(\n",
    "        f\"{i:<10} {y_pred_labels[i]:<15} {y_true_labels[i]:<10} \"\n",
    "        f\"{np.array2string(y_pred[i], precision=3, floatmode='fixed')}\"\n",
    "    )"
   ]
  },
  {
   "cell_type": "markdown",
   "metadata": {},
   "source": [
    "Per-Sample Loss"
   ]
  },
  {
   "cell_type": "code",
   "execution_count": 18,
   "metadata": {},
   "outputs": [
    {
     "name": "stdout",
     "output_type": "stream",
     "text": [
      "      Predicted  True      Loss  \\\n",
      "528           2     3  6.547802   \n",
      "567           3     2  5.993110   \n",
      "1154          1     3  5.722239   \n",
      "1354          1     3  5.471624   \n",
      "1447          3     1  4.932112   \n",
      "1024          3     0  4.804441   \n",
      "1040          1     2  4.801210   \n",
      "1303          0     3  4.785912   \n",
      "32            3     2  4.630244   \n",
      "442           2     3  4.366721   \n",
      "517           1     0  4.296916   \n",
      "898           3     0  4.234290   \n",
      "1343          1     2  4.206092   \n",
      "1636          2     3  4.175729   \n",
      "205           3     1  4.158913   \n",
      "113           1     0  4.040743   \n",
      "388           3     2  3.962358   \n",
      "383           1     3  3.885097   \n",
      "1114          2     3  3.870213   \n",
      "297           2     3  3.825603   \n",
      "\n",
      "                                          Probabilities  \n",
      "528   [0.06366174, 0.23823327, 0.6966716, 0.0014332618]  \n",
      "567    [0.05199988, 0.4606339, 0.0024958889, 0.4848703]  \n",
      "1154  [0.015388552, 0.9805138, 0.0008252995, 0.00327...  \n",
      "1354   [0.12277475, 0.5380605, 0.33496043, 0.004204397]  \n",
      "1447  [0.056530323, 0.007211257, 0.0060065044, 0.930...  \n",
      "1024  [0.008193275, 0.25282854, 0.0019155599, 0.7370...  \n",
      "1040  [0.0019444792, 0.9790104, 0.008219796, 0.01082...  \n",
      "1303  [0.8336507, 0.029136406, 0.12886642, 0.008346506]  \n",
      "32     [0.27261847, 0.06900664, 0.009752376, 0.6486225]  \n",
      "442   [0.14956237, 0.047010373, 0.7907344, 0.012692797]  \n",
      "517   [0.013610471, 0.93954086, 0.046421774, 0.00042...  \n",
      "898   [0.014490095, 0.04257136, 0.017405603, 0.9255328]  \n",
      "1343   [0.21032232, 0.62270623, 0.014904505, 0.1520669]  \n",
      "1636   [0.04461315, 0.05188847, 0.8881343, 0.015363991]  \n",
      "205   [0.121670276, 0.015624538, 0.010311997, 0.8523...  \n",
      "113   [0.017584402, 0.85154545, 0.0025473572, 0.1283...  \n",
      "388      [0.090466, 0.07348065, 0.019018224, 0.8170351]  \n",
      "383       [0.224654, 0.40273315, 0.352067, 0.020545835]  \n",
      "1114  [0.19046403, 0.047643185, 0.74103886, 0.020853...  \n",
      "297   [0.39893427, 0.13034494, 0.44891545, 0.021805294]  \n"
     ]
    }
   ],
   "source": [
    "# Compute per-sample loss\n",
    "losses = -np.log(y_pred[np.arange(len(y_pred)), y_true_labels])\n",
    "\n",
    "# Add predictions, true labels, and losses to a DataFrame for analysis\n",
    "import pandas as pd\n",
    "results_df = pd.DataFrame({\n",
    "    \"Predicted\": y_pred_labels,\n",
    "    \"True\": y_true_labels,\n",
    "    \"Loss\": losses,\n",
    "    \"Probabilities\": [list(prob) for prob in y_pred]\n",
    "})\n",
    "\n",
    "# Sort by loss to find the most challenging samples\n",
    "results_df_sorted = results_df.sort_values(by=\"Loss\", ascending=False)\n",
    "print(results_df_sorted.head(20))  # Display top 10 samples with highest loss\n"
   ]
  },
  {
   "cell_type": "markdown",
   "metadata": {},
   "source": [
    "Play the '528' recording"
   ]
  },
  {
   "cell_type": "code",
   "execution_count": 20,
   "metadata": {},
   "outputs": [
    {
     "name": "stdout",
     "output_type": "stream",
     "text": [
      "File Path for Record 528: recordings/up/d0f7bef5_nohash_1.wav\n"
     ]
    },
    {
     "data": {
      "text/html": [
       "\n",
       "                <audio  controls=\"controls\" >\n",
       "                    <source src=\"data:audio/x-wav;base64,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\" type=\"audio/x-wav\" />\n",
       "                    Your browser does not support the audio element.\n",
       "                </audio>\n",
       "              "
      ],
      "text/plain": [
       "<IPython.lib.display.Audio object>"
      ]
     },
     "execution_count": 20,
     "metadata": {},
     "output_type": "execute_result"
    }
   ],
   "source": [
    "from IPython.display import Audio\n",
    "\n",
    "#Install audio-preview extension \n",
    "\n",
    "# Retrieve the file path for record 528\n",
    "record_index = 528\n",
    "file_path = df.loc[record_index, 'File_Path']\n",
    "print(f\"File Path for Record {record_index}: {file_path}\")\n",
    "\n",
    "Audio(file_path)"
   ]
  }
 ],
 "metadata": {
  "kernelspec": {
   "display_name": "Python 3",
   "language": "python",
   "name": "python3"
  },
  "language_info": {
   "codemirror_mode": {
    "name": "ipython",
    "version": 3
   },
   "file_extension": ".py",
   "mimetype": "text/x-python",
   "name": "python",
   "nbconvert_exporter": "python",
   "pygments_lexer": "ipython3",
   "version": "3.10.13"
  }
 },
 "nbformat": 4,
 "nbformat_minor": 2
}
